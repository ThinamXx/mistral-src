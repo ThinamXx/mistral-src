{
 "cells": [
  {
   "cell_type": "code",
   "execution_count": 1,
   "metadata": {},
   "outputs": [],
   "source": [
    "from xformers.ops.fmha.attn_bias import (\n",
    "    BlockDiagonalCausalMask,\n",
    "    BlockDiagonalCausalWithOffsetPaddedKeysMask,\n",
    "    BlockDiagonalMask,\n",
    ")"
   ]
  },
  {
   "cell_type": "code",
   "execution_count": 2,
   "metadata": {},
   "outputs": [
    {
     "data": {
      "text/plain": [
       "tensor([[[0., -inf, -inf, -inf],\n",
       "         [0., 0., -inf, -inf],\n",
       "         [-inf, -inf, 0., -inf],\n",
       "         [-inf, -inf, 0., 0.]]])"
      ]
     },
     "execution_count": 2,
     "metadata": {},
     "output_type": "execute_result"
    }
   ],
   "source": [
    "# debugging BlockDiagonalCausalMask\n",
    "seqlens = [2, 2]\n",
    "sliding_window = 2\n",
    "batch_size = 1\n",
    "total_seq = sum(seqlens)\n",
    "\n",
    "mask = BlockDiagonalCausalMask.from_seqlens(seqlens).make_local_attention(sliding_window)\n",
    "mask.materialize((batch_size, total_seq, total_seq))"
   ]
  },
  {
   "cell_type": "code",
   "execution_count": 3,
   "metadata": {},
   "outputs": [
    {
     "data": {
      "text/plain": [
       "tensor([[[-inf, 0., 0., -inf, -inf, -inf, -inf, -inf],\n",
       "         [-inf, -inf, 0., 0., -inf, -inf, -inf, -inf],\n",
       "         [-inf, -inf, -inf, -inf, -inf, 0., 0., -inf],\n",
       "         [-inf, -inf, -inf, -inf, -inf, -inf, 0., 0.]]])"
      ]
     },
     "execution_count": 3,
     "metadata": {},
     "output_type": "execute_result"
    }
   ],
   "source": [
    "# debugging BlockDiagonalMask\n",
    "seqlens = [2, 2]\n",
    "kv_seqlens = [4, 4]\n",
    "sliding_window = 2\n",
    "batch_size = 1\n",
    "total_seq = sum(seqlens)\n",
    "\n",
    "mask = BlockDiagonalMask.from_seqlens(\n",
    "                q_seqlen=seqlens,\n",
    "                kv_seqlen=kv_seqlens,\n",
    "            ).make_local_attention_from_bottomright(sliding_window)\n",
    "mask.materialize((batch_size, total_seq, sum(kv_seqlens)))"
   ]
  },
  {
   "cell_type": "code",
   "execution_count": 4,
   "metadata": {},
   "outputs": [
    {
     "data": {
      "text/plain": [
       "tensor([[[0., 0., 0., -inf, -inf, -inf, -inf, -inf, -inf, -inf, -inf, -inf, -inf, -inf, -inf, -inf, -inf, -inf],\n",
       "         [0., 0., 0., 0., -inf, -inf, -inf, -inf, -inf, -inf, -inf, -inf, -inf, -inf, -inf, -inf, -inf, -inf],\n",
       "         [-inf, -inf, -inf, -inf, -inf, -inf, -inf, -inf, -inf, 0., 0., 0., -inf, -inf, -inf, -inf, -inf, -inf],\n",
       "         [-inf, -inf, -inf, -inf, -inf, -inf, -inf, -inf, -inf, 0., 0., 0., 0., -inf, -inf, -inf, -inf, -inf]]])"
      ]
     },
     "execution_count": 4,
     "metadata": {},
     "output_type": "execute_result"
    }
   ],
   "source": [
    "# debugging\n",
    "seqlens = [2, 2]\n",
    "kv_seqlens = [4, 4]\n",
    "kv_padding = 9\n",
    "sliding_window = 2\n",
    "batch_size = 1\n",
    "total_seq = sum(seqlens)\n",
    "\n",
    "mask = BlockDiagonalCausalWithOffsetPaddedKeysMask.from_seqlens(\n",
    "                q_seqlen=seqlens,\n",
    "                kv_padding=kv_padding,\n",
    "                kv_seqlen=kv_seqlens\n",
    "            )\n",
    "mask.materialize((batch_size, total_seq, kv_padding * len(kv_seqlens)))"
   ]
  }
 ],
 "metadata": {
  "kernelspec": {
   "display_name": "Python 3",
   "language": "python",
   "name": "python3"
  },
  "language_info": {
   "codemirror_mode": {
    "name": "ipython",
    "version": 3
   },
   "file_extension": ".py",
   "mimetype": "text/x-python",
   "name": "python",
   "nbconvert_exporter": "python",
   "pygments_lexer": "ipython3",
   "version": "3.10.13"
  }
 },
 "nbformat": 4,
 "nbformat_minor": 2
}
